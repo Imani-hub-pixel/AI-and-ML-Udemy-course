{
 "cells": [
  {
   "cell_type": "code",
   "execution_count": 3,
   "id": "b7c338d5",
   "metadata": {},
   "outputs": [
    {
     "name": "stdout",
     "output_type": "stream",
     "text": [
      "[1 2 3 4 5]\n",
      "<class 'numpy.ndarray'>\n",
      "(5,)\n"
     ]
    }
   ],
   "source": [
    "import numpy as np\n",
    "# 1D array\n",
    "arr1=np.array([1,2,3,4,5])\n",
    "print(arr1)\n",
    "print(type(arr1))\n",
    "print(arr1.shape)"
   ]
  },
  {
   "cell_type": "code",
   "execution_count": 2,
   "id": "23e00728",
   "metadata": {},
   "outputs": [
    {
     "name": "stdout",
     "output_type": "stream",
     "text": [
      "Collecting numpy\n",
      "  Downloading numpy-2.3.3-cp312-cp312-win_amd64.whl.metadata (60 kB)\n",
      "Downloading numpy-2.3.3-cp312-cp312-win_amd64.whl (12.8 MB)\n",
      "   ---------------------------------------- 0.0/12.8 MB ? eta -:--:--\n",
      "    --------------------------------------- 0.3/12.8 MB ? eta -:--:--\n",
      "   ------ --------------------------------- 2.1/12.8 MB 6.5 MB/s eta 0:00:02\n",
      "   ------- -------------------------------- 2.4/12.8 MB 6.4 MB/s eta 0:00:02\n",
      "   -------- ------------------------------- 2.6/12.8 MB 3.1 MB/s eta 0:00:04\n",
      "   -------- ------------------------------- 2.6/12.8 MB 3.1 MB/s eta 0:00:04\n",
      "   --------- ------------------------------ 3.1/12.8 MB 2.4 MB/s eta 0:00:05\n",
      "   ---------- ----------------------------- 3.4/12.8 MB 1.9 MB/s eta 0:00:05\n",
      "   ----------- ---------------------------- 3.7/12.8 MB 1.8 MB/s eta 0:00:05\n",
      "   ------------ --------------------------- 3.9/12.8 MB 1.8 MB/s eta 0:00:05\n",
      "   ------------- -------------------------- 4.5/12.8 MB 1.8 MB/s eta 0:00:05\n",
      "   -------------- ------------------------- 4.7/12.8 MB 1.8 MB/s eta 0:00:05\n",
      "   ----------------- ---------------------- 5.5/12.8 MB 1.9 MB/s eta 0:00:04\n",
      "   ----------------------- ---------------- 7.6/12.8 MB 2.4 MB/s eta 0:00:03\n",
      "   ----------------------- ---------------- 7.6/12.8 MB 2.4 MB/s eta 0:00:03\n",
      "   ------------------------ --------------- 7.9/12.8 MB 2.3 MB/s eta 0:00:03\n",
      "   ----------------------------- ---------- 9.4/12.8 MB 2.5 MB/s eta 0:00:02\n",
      "   ------------------------------ --------- 9.7/12.8 MB 2.5 MB/s eta 0:00:02\n",
      "   ---------------------------------- ----- 11.0/12.8 MB 2.6 MB/s eta 0:00:01\n",
      "   ------------------------------------ --- 11.5/12.8 MB 2.7 MB/s eta 0:00:01\n",
      "   -------------------------------------- - 12.3/12.8 MB 2.7 MB/s eta 0:00:01\n",
      "   ---------------------------------------- 12.8/12.8 MB 2.6 MB/s  0:00:04\n",
      "Installing collected packages: numpy\n",
      "Successfully installed numpy-2.3.3\n"
     ]
    }
   ],
   "source": [
    "!pip install numpy\n"
   ]
  },
  {
   "cell_type": "code",
   "execution_count": 5,
   "id": "8a38cec9",
   "metadata": {},
   "outputs": [
    {
     "data": {
      "text/plain": [
       "array([[1, 2, 3, 4, 5]])"
      ]
     },
     "execution_count": 5,
     "metadata": {},
     "output_type": "execute_result"
    }
   ],
   "source": [
    "arr2=np.array([1,2,3,4,5])\n",
    "arr2.reshape(1,5)"
   ]
  },
  {
   "cell_type": "code",
   "execution_count": 8,
   "id": "450c15dc",
   "metadata": {},
   "outputs": [
    {
     "data": {
      "text/plain": [
       "(2, 5)"
      ]
     },
     "execution_count": 8,
     "metadata": {},
     "output_type": "execute_result"
    }
   ],
   "source": [
    "arr3=np.array([[1,2,3,4,5],[6,7,8,9,10]])\n",
    "arr3.shape\n"
   ]
  },
  {
   "cell_type": "code",
   "execution_count": null,
   "id": "af25da1f",
   "metadata": {},
   "outputs": [],
   "source": [
    "np.arrange(0,10,2)"
   ]
  },
  {
   "cell_type": "code",
   "execution_count": 11,
   "id": "f712b4da",
   "metadata": {},
   "outputs": [
    {
     "name": "stdout",
     "output_type": "stream",
     "text": [
      "[11 22 33 44 55]\n",
      "[ 9 18 27 36 45]\n",
      "[ 10  40  90 160 250]\n",
      "[10. 10. 10. 10. 10.]\n"
     ]
    }
   ],
   "source": [
    "#Vectorized operations using numpy\n",
    "arr1=np.array([1,2,3,4,5])\n",
    "arr2=np.array([10,20,30,40,50])\n",
    "\n",
    "#Element wise additon\n",
    "print(arr1+arr2)\n",
    "#subtraction\n",
    "print(arr2-arr1)\n",
    "#multiplication\n",
    "print(arr1*arr2)\n",
    "#division\n",
    "print(arr2/arr1)\n"
   ]
  },
  {
   "cell_type": "code",
   "execution_count": null,
   "id": "7c3abe70",
   "metadata": {},
   "outputs": [
    {
     "name": "stdout",
     "output_type": "stream",
     "text": [
      "[1.41421356 1.73205081 2.         2.23606798 2.44948974]\n",
      "[  7.3890561   20.08553692  54.59815003 148.4131591  403.42879349]\n",
      "[ 0.90929743  0.14112001 -0.7568025  -0.95892427 -0.2794155 ]\n",
      "[0.69314718 1.09861229 1.38629436 1.60943791 1.79175947]\n"
     ]
    }
   ],
   "source": [
    "#Universal funtions\n",
    "arr1=np.array([2,3,4,5,6])\n",
    "#square root\n",
    "print(np.sqrt(arr1))\n",
    "#Exponential\n",
    "print(np.exp(arr1))\n",
    "#sine\n",
    "print(np.sin(arr1))\n",
    "#Natural log\n",
    "print(np.log(arr1))"
   ]
  },
  {
   "cell_type": "code",
   "execution_count": 25,
   "id": "a457c54c",
   "metadata": {},
   "outputs": [
    {
     "name": "stdout",
     "output_type": "stream",
     "text": [
      "[[ 1  2  3  4]\n",
      " [ 5  6  7  8]\n",
      " [ 9 10 11 12]]\n",
      "[[ 7  8]\n",
      " [11 12]]\n",
      "[[ 6  7]\n",
      " [10 11]]\n"
     ]
    }
   ],
   "source": [
    "#Array slicing and indexing\n",
    "arr1=np.array([[1,2,3,4],[5,6,7,8],[9,10,11,12]])\n",
    "print(arr1)\n",
    "\n",
    "arr1[0][2]\n",
    "arr1[2:]\n",
    "print(arr1[1:,2:])\n",
    "print(arr1[1:,1:3])\n",
    "\n"
   ]
  },
  {
   "cell_type": "code",
   "execution_count": 26,
   "id": "f7081d30",
   "metadata": {},
   "outputs": [
    {
     "name": "stdout",
     "output_type": "stream",
     "text": [
      "[[100   2   3   4]\n",
      " [  5   6   7   8]\n",
      " [  9  10  11  12]]\n"
     ]
    }
   ],
   "source": [
    "#Modify array elements\n",
    "arr1[0][0]=100\n",
    "print(arr1)\n"
   ]
  },
  {
   "cell_type": "code",
   "execution_count": 27,
   "id": "27ecd5fe",
   "metadata": {},
   "outputs": [
    {
     "name": "stdout",
     "output_type": "stream",
     "text": [
      "[-1.41421356 -0.70710678  0.          0.70710678  1.41421356]\n"
     ]
    }
   ],
   "source": [
    "#Statistical concept-Normalization\n",
    "#Change my data to have a mean of zero and standard deviationof 1\n",
    "\n",
    "data=np.array([1,2,3,4,5])\n",
    "#Mean and standard deviation\n",
    "mean=np.mean(data)\n",
    "std_dev=np.std(data)\n",
    "\n",
    "#Normalize the data\n",
    "normalized_data=(data-mean)/std_dev\n",
    "print(normalized_data)\n"
   ]
  },
  {
   "cell_type": "code",
   "execution_count": 30,
   "id": "cde0eb5d",
   "metadata": {},
   "outputs": [
    {
     "data": {
      "text/plain": [
       "array([ 6,  7,  8,  9, 10])"
      ]
     },
     "execution_count": 30,
     "metadata": {},
     "output_type": "execute_result"
    }
   ],
   "source": [
    "#Logical opertions\n",
    "data=np.array(([1,2,3,4,5,6,7,8,9,10]))\n",
    "data[data>5]"
   ]
  }
 ],
 "metadata": {
  "kernelspec": {
   "display_name": "Python 3",
   "language": "python",
   "name": "python3"
  },
  "language_info": {
   "codemirror_mode": {
    "name": "ipython",
    "version": 3
   },
   "file_extension": ".py",
   "mimetype": "text/x-python",
   "name": "python",
   "nbconvert_exporter": "python",
   "pygments_lexer": "ipython3",
   "version": "3.12.11"
  }
 },
 "nbformat": 4,
 "nbformat_minor": 5
}
