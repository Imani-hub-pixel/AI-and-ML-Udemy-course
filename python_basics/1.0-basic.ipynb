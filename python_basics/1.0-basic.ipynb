{
 "cells": [
  {
   "cell_type": "code",
   "execution_count": null,
   "id": "6f7dc1bc",
   "metadata": {},
   "outputs": [],
   "source": [
    "\"\"\"Syntax -set of rules that defines the combintion of symbols that are considered correctly \n",
    "structured programs in that language.\n",
    "Semantics - the meaning of those syntactically correct strings.\"\"\"\n",
    "\n",
    "## basic syntax:\n",
    "#case senstivity;python is case sensitive"
   ]
  }
 ],
 "metadata": {
  "language_info": {
   "name": "python"
  }
 },
 "nbformat": 4,
 "nbformat_minor": 5
}
