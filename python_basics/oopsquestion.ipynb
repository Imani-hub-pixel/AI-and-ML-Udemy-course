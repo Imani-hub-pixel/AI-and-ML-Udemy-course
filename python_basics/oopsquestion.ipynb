{
 "cells": [
  {
   "cell_type": "markdown",
   "metadata": {},
   "source": [
    "# Module: OOP Assignments\n",
    "## Lesson: Polymorphism, Abstraction, and Encapsulation\n",
    "### Assignment 1: Polymorphism with Methods\n",
    "\n",
    "Create a base class named `Shape` with a method `area`. Create two derived classes `Circle` and `Square` that override the `area` method. Create a list of `Shape` objects and call the `area` method on each object to demonstrate polymorphism.\n",
    "\n",
    "### Assignment 2: Polymorphism with Function Arguments\n",
    "\n",
    "Create a function named `describe_shape` that takes a `Shape` object as an argument and calls its `area` method. Create objects of `Circle` and `Square` classes and pass them to the `describe_shape` function.\n",
    "\n",
    "### Assignment 3: Abstract Base Class with Abstract Methods\n",
    "\n",
    "Create an abstract base class named `Vehicle` with an abstract method `start_engine`. Create derived classes `Car` and `Bike` that implement the `start_engine` method. Create objects of the derived classes and call the `start_engine` method.\n",
    "\n",
    "### Assignment 4: Abstract Base Class with Concrete Methods\n",
    "\n",
    "In the `Vehicle` class, add a concrete method `fuel_type` that returns a generic fuel type. Override this method in `Car` and `Bike` classes to return specific fuel types. Create objects of the derived classes and call the `fuel_type` method.\n",
    "\n",
    "### Assignment 5: Encapsulation with Private Attributes\n",
    "\n",
    "Create a class named `BankAccount` with private attributes `account_number` and `balance`. Add methods to deposit and withdraw money, and to check the balance. Ensure that the balance cannot be accessed directly.\n",
    "\n",
    "### Assignment 6: Encapsulation with Property Decorators\n",
    "\n",
    "In the `BankAccount` class, use property decorators to get and set the `balance` attribute. Ensure that the balance cannot be set to a negative value.\n",
    "\n",
    "### Assignment 7: Combining Encapsulation and Inheritance\n",
    "\n",
    "Create a base class named `Person` with private attributes `name` and `age`. Add methods to get and set these attributes. Create a derived class named `Student` that adds an attribute `student_id`. Create an object of the `Student` class and test the encapsulation.\n",
    "\n",
    "### Assignment 8: Polymorphism with Inheritance\n",
    "\n",
    "Create a base class named `Animal` with a method `speak`. Create two derived classes `Dog` and `Cat` that override the `speak` method. Create a list of `Animal` objects and call the `speak` method on each object to demonstrate polymorphism.\n",
    "\n",
    "### Assignment 9: Abstract Methods in Base Class\n",
    "\n",
    "Create an abstract base class named `Employee` with an abstract method `calculate_salary`. Create two derived classes `FullTimeEmployee` and `PartTimeEmployee` that implement the `calculate_salary` method. Create objects of the derived classes and call the `calculate_salary` method.\n",
    "\n",
    "### Assignment 10: Encapsulation in Data Classes\n",
    "\n",
    "Create a data class named `Product` with private attributes `product_id`, `name`, and `price`. Add methods to get and set these attributes. Ensure that the price cannot be set to a negative value.\n",
    "\n",
    "### Assignment 11: Polymorphism with Operator Overloading\n",
    "\n",
    "Create a class named `Vector` with attributes `x` and `y`. Overload the `+` operator to add two `Vector` objects. Create objects of the class and test the operator overloading.\n",
    "\n",
    "### Assignment 12: Abstract Properties\n",
    "\n",
    "Create an abstract base class named `Appliance` with an abstract property `power`. Create two derived classes `WashingMachine` and `Refrigerator` that implement the `power` property. Create objects of the derived classes and access the `power` property.\n",
    "\n",
    "### Assignment 13: Encapsulation in Class Hierarchies\n",
    "\n",
    "Create a base class named `Account` with private attributes `account_number` and `balance`. Add methods to get and set these attributes. Create a derived class named `SavingsAccount` that adds an attribute `interest_rate`. Create an object of the `SavingsAccount` class and test the encapsulation.\n",
    "\n",
    "### Assignment 14: Polymorphism with Multiple Inheritance\n",
    "\n",
    "Create a class named `Flyer` with a method `fly`. Create a class named `Swimmer` with a method `swim`. Create a class named `Superhero` that inherits from both `Flyer` and `Swimmer` and overrides both methods. Create an object of the `Superhero` class and call both methods.\n",
    "\n",
    "### Assignment 15: Abstract Methods and Multiple Inheritance\n",
    "\n",
    "Create an abstract base class named `Worker` with an abstract method `work`. Create two derived classes `Engineer` and `Doctor` that implement the `work` method. Create another derived class `Scientist` that inherits from both `Engineer` and `Doctor`. Create an object of the `Scientist` class and call the `work` method."
   ]
  },
  {
   "cell_type": "code",
   "execution_count": 4,
   "id": "c2465311",
   "metadata": {},
   "outputs": [
    {
     "name": "stdout",
     "output_type": "stream",
     "text": [
      "78.5\n",
      "16\n",
      "314.0\n",
      "56.25\n"
     ]
    }
   ],
   "source": [
    "#Assignment 1:\n",
    "#base class\n",
    "class Shape:\n",
    "\n",
    "    def area(self):\n",
    "        pass\n",
    "class Circle(Shape):\n",
    "    def __init__(self,radius):\n",
    "        self.radius=radius\n",
    "    def area(self):\n",
    "        return 3.14*self.radius*self.radius\n",
    "    \n",
    "class Square(Shape):\n",
    "    def __init__(self,base):\n",
    "        self.base=base\n",
    "    def area(self):\n",
    "        return self.base*self.base\n",
    "    \n",
    "shapes = [\n",
    "    Circle(5),\n",
    "    Square(4),\n",
    "    Circle(10),\n",
    "    Square(7.5)\n",
    "]\n",
    "for shape in shapes:\n",
    "    print(shape.area())\n",
    "\n",
    "\n"
   ]
  },
  {
   "cell_type": "code",
   "execution_count": 6,
   "metadata": {},
   "outputs": [
    {
     "name": "stdout",
     "output_type": "stream",
     "text": [
      "<__main__.Circle object at 0x000001985204A720> with  area of :78.5\n",
      "<__main__.Square object at 0x0000019852049B50> with  area of :16\n",
      "<__main__.Circle object at 0x000001985204BB30> with  area of :314.0\n",
      "<__main__.Square object at 0x000001985204B080> with  area of :56.25\n"
     ]
    }
   ],
   "source": [
    "#Assignment 2:\n",
    "def describe_shape(shape):\n",
    "    return f\"{shape} with  area of :{shape.area()}\"\n",
    "for shape in shapes:\n",
    "    print(describe_shape(shape))\n"
   ]
  },
  {
   "cell_type": "code",
   "execution_count": null,
   "id": "0c9a83f6",
   "metadata": {},
   "outputs": [
    {
     "data": {
      "text/plain": [
       "'Bajaj engine is starting'"
      ]
     },
     "execution_count": 10,
     "metadata": {},
     "output_type": "execute_result"
    }
   ],
   "source": [
    "#Assignment 3:\n",
    "from abc import ABC,abstractclassmethod\n",
    "class Vehicle:\n",
    "    @abstractclassmethod\n",
    "    def start_engine(self):\n",
    "        pass\n",
    "class Car(Vehicle):\n",
    "    def __init__(self,model):\n",
    "        self.model=model\n",
    "    def start_engine(self):\n",
    "        return f\"{self.model} engine is starting\"\n",
    "class Bike(Vehicle):\n",
    "    def __init__(self,model):\n",
    "        self.model=model\n",
    "    def start_engine(self):\n",
    "        return f\"{self.model} engine is starting\"\n",
    "car1=Car(\"Audi\")\n",
    "bike1=Bike(\"Bajaj\")\n",
    "car1.start_engine()\n",
    "bike1.start_engine()"
   ]
  },
  {
   "cell_type": "code",
   "execution_count": 11,
   "id": "11b2f10a",
   "metadata": {},
   "outputs": [
    {
     "data": {
      "text/plain": [
       "'Audi uses diesel'"
      ]
     },
     "execution_count": 11,
     "metadata": {},
     "output_type": "execute_result"
    }
   ],
   "source": [
    "#Assignment 4:\n",
    "from abc import ABC,abstractclassmethod\n",
    "class Vehicle:\n",
    "    @abstractclassmethod\n",
    "    def start_engine(self):\n",
    "        pass\n",
    "    def fuel_type(self):\n",
    "        return f\"{self.model} uses diesel\"\n",
    "class Car(Vehicle):\n",
    "    def __init__(self,model):\n",
    "        self.model=model\n",
    "    def start_engine(self):\n",
    "        return f\"{self.model} engine is starting\"\n",
    "    def fuel_type(self):\n",
    "        return super().fuel_type()\n",
    "class Bike(Vehicle):\n",
    "    def __init__(self,model):\n",
    "        self.model=model\n",
    "    def start_engine(self):\n",
    "        return f\"{self.model} engine is starting\"\n",
    "    def fuel_type(self):\n",
    "        return super().fuel_type()\n",
    "car1=Car(\"Audi\")\n",
    "bike1=Bike(\"Bajaj\")\n",
    "car1.start_engine()\n",
    "bike1.start_engine()\n",
    "car1.fuel_type()"
   ]
  },
  {
   "cell_type": "code",
   "execution_count": 14,
   "id": "54afce2d",
   "metadata": {},
   "outputs": [
    {
     "data": {
      "text/plain": [
       "'20000 was withdrawn.New balance is 18000'"
      ]
     },
     "execution_count": 14,
     "metadata": {},
     "output_type": "execute_result"
    }
   ],
   "source": [
    "#Assignment 5:\n",
    "class BankAccount:\n",
    "    def __init__(self,account_number,balance):\n",
    "        self.__account_number=account_number\n",
    "        self.__balance=balance\n",
    "    def deposit(self,amount):\n",
    "        self.__balance+=amount\n",
    "        return f\"{amount} was deposited .New balance {self.__balance}\"\n",
    "    def withdraw(self,amount):\n",
    "        if self.__balance<amount:\n",
    "            print(f\"Error,insufficent funds\")\n",
    "        else:\n",
    "            self.__balance-=amount\n",
    "        return f\"{amount} was withdrawn.New balance is {self.__balance}\"\n",
    "    def get_balance(self):\n",
    "        return f\"Your balance is {self.__balance}\"\n",
    "    def __str__(self):\n",
    "        return f\" Account balance {self.__balance}\"\n",
    "    \n",
    "account1=BankAccount(\"12345\",34000)\n",
    "account1.deposit(4000)\n",
    "account1.withdraw(20000)\n"
   ]
  },
  {
   "cell_type": "code",
   "execution_count": 20,
   "id": "a92a8e38",
   "metadata": {},
   "outputs": [
    {
     "name": "stdout",
     "output_type": "stream",
     "text": [
      "Error,insufficent funds\n"
     ]
    },
    {
     "data": {
      "text/plain": [
       "38000"
      ]
     },
     "execution_count": 20,
     "metadata": {},
     "output_type": "execute_result"
    }
   ],
   "source": [
    "#Assignment 6:\n",
    "#Assignment 5:\n",
    "class BankAccount:\n",
    "    def __init__(self,account_number,balance):\n",
    "        self.__account_number=account_number\n",
    "        self.__balance=balance\n",
    "    def deposit(self,amount):\n",
    "        self.__balance+=amount\n",
    "        return f\"{amount} was deposited .New balance {self.__balance}\"\n",
    "    def withdraw(self,amount):\n",
    "        if self.__balance<amount:\n",
    "            print(f\"Error,insufficent funds\")\n",
    "        else:\n",
    "            self.__balance-=amount\n",
    "        return f\"{amount} was withdrawn.New balance is {self.__balance}\"\n",
    "    @property\n",
    "    def get_balance(self):\n",
    "        return self.__balance\n",
    "    @get_balance.setter\n",
    "    def get_balance(self, value):\n",
    "        if value < 0:\n",
    "            raise ValueError(\"Balance cannot be negative\")\n",
    "        self.__balance = value\n",
    "       \n",
    "    def __str__(self):\n",
    "        return f\" Account balance {self.__balance}\"\n",
    "    \n",
    "account1=BankAccount(\"12345\",34000)\n",
    "account1.deposit(4000)\n",
    "account1.withdraw(100000)\n",
    "account1.get_balance # Access property without parentheses\n",
    "\n"
   ]
  },
  {
   "cell_type": "code",
   "execution_count": 23,
   "id": "9991f4dc",
   "metadata": {},
   "outputs": [
    {
     "name": "stdout",
     "output_type": "stream",
     "text": [
      "faith,20,12345\n"
     ]
    }
   ],
   "source": [
    "#Assignment 7:\n",
    "class Person:\n",
    "    def __init__(self, name, age):\n",
    "        self.__name = name\n",
    "        self.__age = age\n",
    "\n",
    "    @property\n",
    "    def name(self):\n",
    "        return self.__name\n",
    "\n",
    "    @name.setter\n",
    "    def name(self, name):\n",
    "        self.__name = name\n",
    "\n",
    "    @property\n",
    "    def age(self):\n",
    "        return self.__age\n",
    "\n",
    "    @age.setter\n",
    "    def age(self, age):\n",
    "        self.__age = age\n",
    "    \n",
    "class Student(Person):\n",
    "    def __init__(self,name,age,student_id):\n",
    "        super().__init__(name,age)\n",
    "        self.student_id=student_id\n",
    "    def __str__(self):\n",
    "        return f\"{self.name},{self.age},{self.student_id}\"\n",
    "    \n",
    "faith=Student(\"faith\",20,12345)\n",
    "print(faith)\n",
    "    \n",
    "\n"
   ]
  },
  {
   "cell_type": "code",
   "execution_count": 24,
   "id": "1199c746",
   "metadata": {},
   "outputs": [
    {
     "name": "stdout",
     "output_type": "stream",
     "text": [
      "woof\n",
      "meow\n"
     ]
    }
   ],
   "source": [
    "#Assignment 8:\n",
    "from abc import ABC,abstractclassmethod\n",
    "class Animal(ABC):\n",
    "    @abstractclassmethod\n",
    "    def speak(self):\n",
    "        pass\n",
    "class Dog(Animal):\n",
    "    def speak(self):\n",
    "        return \"woof\"\n",
    "class Cat(Animal):\n",
    "    def speak(self):\n",
    "        return \"meow\"\n",
    "animals = [\n",
    "    Dog(),\n",
    "    Cat()\n",
    "]\n",
    "\n",
    "for animal in animals:\n",
    "    print(animal.speak())\n",
    "    \n"
   ]
  },
  {
   "cell_type": "code",
   "execution_count": null,
   "id": "e797cd34",
   "metadata": {},
   "outputs": [
    {
     "name": "stdout",
     "output_type": "stream",
     "text": [
      "<bound method FullTimeEmployee.calculate_salary of <__main__.FullTimeEmployee object at 0x0000019852224410>>\n"
     ]
    }
   ],
   "source": [
    "#Assignment 9:\n",
    "from abc import ABC,abstractclassmethod\n",
    "class Employee(ABC):\n",
    "    abstractclassmethod\n",
    "    def calculate_salary(self):\n",
    "        pass\n",
    "class FullTimeEmployee(Employee):\n",
    "    def calculate_salary(self):\n",
    "        return \"Salary paid is 200000\"\n",
    "class PartTimeEmployee(Employee):\n",
    "    def calculate_salary(self):\n",
    "        return \"Salary paid is 100000\"\n",
    "    \n",
    "employee1=FullTimeEmployee()\n"
   ]
  }
 ],
 "metadata": {
  "kernelspec": {
   "display_name": "Python 3",
   "language": "python",
   "name": "python3"
  },
  "language_info": {
   "codemirror_mode": {
    "name": "ipython",
    "version": 3
   },
   "file_extension": ".py",
   "mimetype": "text/x-python",
   "name": "python",
   "nbconvert_exporter": "python",
   "pygments_lexer": "ipython3",
   "version": "3.12.11"
  }
 },
 "nbformat": 4,
 "nbformat_minor": 5
}
