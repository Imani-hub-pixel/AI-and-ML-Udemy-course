{
 "cells": [
  {
   "cell_type": "markdown",
   "metadata": {},
   "source": [
    "# Module 3: Data Structures Assignments\n",
    "## Lesson 3.1: Lists\n",
    "### Assignment 1: Creating and Accessing Lists\n",
    "\n",
    "Create a list of the first 20 positive integers. Print the list.\n",
    "\n",
    "### Assignment 2: Accessing List Elements\n",
    "\n",
    "Print the first, middle, and last elements of the list created in Assignment 1.\n",
    "\n",
    "### Assignment 3: List Slicing\n",
    "\n",
    "Print the first five elements, the last five elements, and the elements from index 5 to 15 of the list created in Assignment 1.\n",
    "\n",
    "### Assignment 4: List Comprehensions\n",
    "\n",
    "Create a new list containing the squares of the first 10 positive integers using a list comprehension. Print the new list.\n",
    "\n",
    "### Assignment 5: Filtering Lists\n",
    "\n",
    "Create a new list containing only the even numbers from the list created in Assignment 1 using a list comprehension. Print the new list.\n",
    "\n",
    "### Assignment 6: List Methods\n",
    "\n",
    "Create a list of random numbers and sort it in ascending and descending order. Remove the duplicates from the list and print the modified list.\n",
    "\n",
    "### Assignment 7: Nested Lists\n",
    "\n",
    "Create a nested list representing a 3x3 matrix and print the matrix. Access and print the element at the second row and third column.\n",
    "\n",
    "### Assignment 8: List of Dictionaries\n",
    "\n",
    "Create a list of dictionaries where each dictionary represents a student with keys 'name' and 'score'. Sort the list of dictionaries by the 'score' in descending order and print the sorted list.\n",
    "\n",
    "### Assignment 9: Matrix Transposition\n",
    "\n",
    "Write a function that takes a 3x3 matrix (nested list) as input and returns its transpose. Print the original and transposed matrices.\n",
    "\n",
    "### Assignment 10: Flattening a Nested List\n",
    "\n",
    "Write a function that takes a nested list and flattens it into a single list. Print the original and flattened lists.\n",
    "\n",
    "### Assignment 11: List Manipulation\n",
    "\n",
    "Create a list of the first 10 positive integers. Remove the elements at indices 2, 4, and 6, and insert the element '99' at index 5. Print the modified list.\n",
    "\n",
    "### Assignment 12: List Zipping\n",
    "\n",
    "Create two lists of the same length. Use the `zip` function to combine these lists into a list of tuples and print the result.\n",
    "\n",
    "### Assignment 13: List Reversal\n",
    "\n",
    "Write a function that takes a list and returns a new list with the elements in reverse order. Print the original and reversed lists.\n",
    "\n",
    "### Assignment 14: List Rotation\n",
    "\n",
    "Write a function that rotates a list by n positions. Print the original and rotated lists.\n",
    "\n",
    "### Assignment 15: List Intersection\n",
    "\n",
    "Write a function that takes two lists and returns a new list containing only the elements that are present in both lists. Print the intersected list."
   ]
  },
  {
   "cell_type": "code",
   "execution_count": 43,
   "id": "e98c0674",
   "metadata": {},
   "outputs": [
    {
     "name": "stdout",
     "output_type": "stream",
     "text": [
      "[1, 2, 3, 4, 5, 6, 7, 8, 9, 10, 11, 12, 13, 14, 15, 16, 17, 18, 19, 20]\n"
     ]
    }
   ],
   "source": [
    "#Assignemnt 1:\n",
    "positve_inte=[]\n",
    "for i in range(1,21):\n",
    "    positve_inte.append(i)\n",
    "print(positve_inte)\n"
   ]
  },
  {
   "cell_type": "code",
   "execution_count": 44,
   "metadata": {},
   "outputs": [
    {
     "name": "stdout",
     "output_type": "stream",
     "text": [
      "1\n",
      "10,11\n"
     ]
    },
    {
     "data": {
      "text/plain": [
       "20"
      ]
     },
     "execution_count": 44,
     "metadata": {},
     "output_type": "execute_result"
    }
   ],
   "source": [
    "#Assignment 2:\n",
    "#print the first,middle and last number in the list of the first assignment.\n",
    "#first\n",
    "print(positve_inte[0])\n",
    "#middle\n",
    "\n",
    "len_list=len(positve_inte)\n",
    "mid=len(positve_inte)//2-1\n",
    "mid1=len(positve_inte)//2\n",
    "midlle_numbers=f\"{positve_inte[mid]},{positve_inte[mid1]}\"\n",
    "print(midlle_numbers)\n",
    "\n",
    "#last\n",
    "positve_inte.pop()\n"
   ]
  },
  {
   "cell_type": "code",
   "execution_count": 46,
   "id": "16c30415",
   "metadata": {},
   "outputs": [
    {
     "name": "stdout",
     "output_type": "stream",
     "text": [
      "[1, 2, 3, 4, 5, 6, 7, 8, 9, 10, 11, 12, 13, 14, 15, 16, 17, 18, 19, 20]\n",
      "[1, 2, 3, 4, 5]\n",
      "[16, 17, 18, 19, 20]\n",
      "[6, 7, 8, 9, 10, 11, 12, 13, 14, 15, 16]\n"
     ]
    }
   ],
   "source": [
    "#Assignment 3:\n",
    "positve_inte=[]\n",
    "for i in range(1,21):\n",
    "    positve_inte.append(i)\n",
    "print(positve_inte)\n",
    "print(positve_inte[:5])\n",
    "print(positve_inte[-5:])\n",
    "print(positve_inte[5:16])\n"
   ]
  },
  {
   "cell_type": "code",
   "execution_count": 47,
   "id": "2e5459bd",
   "metadata": {},
   "outputs": [
    {
     "name": "stdout",
     "output_type": "stream",
     "text": [
      "[1, 4, 9, 16, 25, 36, 49, 64, 81, 100]\n"
     ]
    }
   ],
   "source": [
    "#Assignment 4:\n",
    "sq=[x*x for x in range(1,11)]\n",
    "print(sq)"
   ]
  },
  {
   "cell_type": "code",
   "execution_count": 52,
   "id": "b334567e",
   "metadata": {},
   "outputs": [
    {
     "name": "stdout",
     "output_type": "stream",
     "text": [
      "[1, 2, 3, 4, 5, 6, 7, 8, 9, 10, 11, 12, 13, 14, 15, 16, 17, 18, 19, 20]\n",
      "[2, 4, 6, 8, 10, 12, 14, 16, 18, 20]\n"
     ]
    }
   ],
   "source": [
    "#Assignment 5:\n",
    "positve_inte=[]\n",
    "for i in range(1,21):\n",
    "    positve_inte.append(i)\n",
    "print(positve_inte)\n",
    "even_num=[i  for i in positve_inte if i%2==0]\n",
    "print(even_num)\n"
   ]
  },
  {
   "cell_type": "code",
   "execution_count": 57,
   "id": "d78dc19c",
   "metadata": {},
   "outputs": [
    {
     "name": "stdout",
     "output_type": "stream",
     "text": [
      "[2, 2, 3, 3, 4, 5, 6, 7, 7, 8, 8, 8, 9, 10]\n",
      "[10, 9, 8, 8, 8, 7, 7, 6, 5, 4, 3, 3, 2, 2]\n",
      "[2, 7, 5, 8, 10, 3, 6, 4, 9]\n",
      "[2, 3, 4, 5, 6, 7, 8, 9, 10]\n",
      "[10, 9, 8, 7, 6, 5, 4, 3, 2]\n"
     ]
    }
   ],
   "source": [
    "#Assignment 6:\n",
    "rand_lst=[2,7,5,8,10,3,2,6,4,3,8,9,8,7]\n",
    "print(sorted(rand_lst))\n",
    "print(sorted(rand_lst,reverse=True))\n",
    "unique_list=[]\n",
    "for i in rand_lst:\n",
    "    if i not in unique_list:\n",
    "        unique_list.append(i)\n",
    "print(unique_list)\n",
    "print(sorted(unique_list))\n",
    "print(sorted(unique_list,reverse=True))"
   ]
  },
  {
   "cell_type": "code",
   "execution_count": 69,
   "id": "427b4f01",
   "metadata": {},
   "outputs": [
    {
     "name": "stdout",
     "output_type": "stream",
     "text": [
      "[9, 7, 7]\n",
      "[5, 8, 10]\n",
      "[4, 8, 4]\n",
      "10\n"
     ]
    }
   ],
   "source": [
    "#Assignment 7:\n",
    "import random\n",
    "matrix=[[random.randint(1,10) for _ in range (3)] for _ in range(3)]\n",
    "for row in matrix:\n",
    "    print(row)\n",
    "middle=matrix[1][2]\n",
    "print(middle)\n",
    "\n"
   ]
  },
  {
   "cell_type": "code",
   "execution_count": 73,
   "id": "aabff664",
   "metadata": {},
   "outputs": [
    {
     "name": "stdout",
     "output_type": "stream",
     "text": [
      "{'name': 'lucy', 'score': 95}\n",
      "{'name': 'Mercy', 'score': 90}\n",
      "{'name': 'faith', 'score': 89}\n",
      "{'name': 'joy', 'score': 87}\n",
      "{'name': 'milcah', 'score': 78}\n",
      "{'name': 'mary', 'score': 65}\n",
      "{'name': 'jean', 'score': 54}\n",
      "{'name': 'noel', 'score': 45}\n"
     ]
    }
   ],
   "source": [
    "#Assignment 8:\n",
    "score_list=[\n",
    "    {\"name\":\"faith\",\"score\":89},\n",
    "    {\"name\":\"joy\",\"score\":87},\n",
    "    {\"name\":\"Mercy\",\"score\":90},\n",
    "    {\"name\":\"milcah\",\"score\":78},\n",
    "    {\"name\":\"jean\",\"score\":54},\n",
    "    {\"name\":\"lucy\",\"score\":95},\n",
    "    {\"name\":\"mary\",\"score\":65},\n",
    "    {\"name\":\"noel\",\"score\":45},\n",
    "]\n",
    "sorted_list=sorted(score_list,key =lambda x:x[\"score\"],reverse=True)\n",
    "for s in sorted_list:\n",
    "    print(s)\n"
   ]
  },
  {
   "cell_type": "code",
   "execution_count": 78,
   "id": "99902c45",
   "metadata": {},
   "outputs": [
    {
     "name": "stdout",
     "output_type": "stream",
     "text": [
      "[1, 4, 7]\n",
      "[2, 5, 8]\n",
      "[3, 6, 9]\n"
     ]
    }
   ],
   "source": [
    "\n",
    "#Assignment 9:\n",
    "def transpose_fun(matrix):\n",
    "    \n",
    "    rows=len(matrix)\n",
    "    columns=len(matrix[0])\n",
    "    transpose=[[0]*rows for _ in range(columns)]\n",
    "    \n",
    "    for i in range(rows):\n",
    "        for j in range(columns):\n",
    "            transpose[j][i]=matrix[i][j]\n",
    "    return transpose\n",
    "\n",
    "matrix=[[1,2,3],\n",
    "            [4,5,6],\n",
    "            [7,8,9]]\n",
    "for rows in transpose_fun(matrix):\n",
    "        print(rows)"
   ]
  },
  {
   "cell_type": "code",
   "execution_count": null,
   "id": "b6ec6d76",
   "metadata": {},
   "outputs": [
    {
     "name": "stdout",
     "output_type": "stream",
     "text": [
      "[[1, 2], [3, 4], [5, 6]]\n",
      "[1, 2, 3, 4, 5, 6]\n"
     ]
    }
   ],
   "source": [
    "#Assignment 10:\n",
    "\n",
    "def flat_list(nested_list):\n",
    "    flat=[]\n",
    "    for sublist in nested_list:\n",
    "        for item in sublist:\n",
    "            flat.append(item)\n",
    "    return flat\n",
    "\n",
    "nested_list=[[1,2],[3,4],[5,6]]\n",
    "print(nested_list)\n",
    "print(flat_list(nested_list))\n",
    "\n"
   ]
  },
  {
   "cell_type": "code",
   "execution_count": 89,
   "id": "86c5fa2a",
   "metadata": {},
   "outputs": [
    {
     "name": "stdout",
     "output_type": "stream",
     "text": [
      "[1, 2, 3, 4, 5, 6, 7, 8, 9, 10]\n",
      "[1, 2, 4, 5, 7, 99, 10]\n"
     ]
    }
   ],
   "source": [
    "#Assignmnet 11:\n",
    "list1=[]\n",
    "for i in range(1,11):\n",
    "    list1.append(i)\n",
    "print(list1)\n",
    "del list1[2]\n",
    "del list1[4]\n",
    "del list1[6]\n",
    "\n",
    "list1[5]=99\n",
    "print(list1)"
   ]
  },
  {
   "cell_type": "code",
   "execution_count": 90,
   "id": "5e63ce82",
   "metadata": {},
   "outputs": [
    {
     "name": "stdout",
     "output_type": "stream",
     "text": [
      "faith:19\n",
      "joy:20\n",
      "mercy:18\n"
     ]
    }
   ],
   "source": [
    "#Assignment 12:\n",
    "names=[\"faith\",\"joy\",\"mercy\"]\n",
    "ages=[19,20,18]\n",
    "\n",
    "for name,age in zip(names,ages):\n",
    "    print(f\"{name}:{age}\")"
   ]
  },
  {
   "cell_type": "code",
   "execution_count": 93,
   "id": "e1b2f4f5",
   "metadata": {},
   "outputs": [
    {
     "name": "stdout",
     "output_type": "stream",
     "text": [
      "[1, 2, 3, 4, 5]\n",
      "[5, 4, 3, 2, 1]\n"
     ]
    }
   ],
   "source": [
    "#Assignment 13:\n",
    "list1=[1,2,3,4,5]\n",
    "\n",
    "def reverse_list(list1):\n",
    "    list2=list1[::-1]\n",
    "    return list2\n",
    "print(list1)\n",
    "print(reverse_list(list1))\n",
    "    \n",
    "\n"
   ]
  },
  {
   "cell_type": "code",
   "execution_count": 95,
   "id": "9a90c8d0",
   "metadata": {},
   "outputs": [
    {
     "name": "stdout",
     "output_type": "stream",
     "text": [
      "[4, 5, 1, 2, 3]\n"
     ]
    }
   ],
   "source": [
    "#Assignment 14:\n",
    "list1=[1,2,3,4,5]\n",
    "n=int(input(\"Enter number to rotate by 1-4\"))\n",
    "direction=input(\"Enter right or left direction:\")\n",
    "def rotate_list(list1):\n",
    "    if direction==\"right\":\n",
    "        rotated=list1[-n:]+list1[:-n]\n",
    "    elif direction==\"left\":\n",
    "        rotated=list1[n:]+list1[:n]\n",
    "    return rotated\n",
    "print(rotate_list(list1))\n"
   ]
  },
  {
   "cell_type": "code",
   "execution_count": 97,
   "id": "1bddf2b7",
   "metadata": {},
   "outputs": [
    {
     "name": "stdout",
     "output_type": "stream",
     "text": [
      "[3, 4]\n"
     ]
    }
   ],
   "source": [
    "#Assignment 15:\n",
    "list1=[1,2,3,4]\n",
    "list2=[3,4,5,6]\n",
    "def inter_list(list1):\n",
    "    intersected_list=[]\n",
    "    for i in list1:\n",
    "        if i in (list1 and list2):\n",
    "            intersected_list.append(i)\n",
    "    return intersected_list\n",
    "print(inter_list(list1))\n",
    "\n"
   ]
  }
 ],
 "metadata": {
  "kernelspec": {
   "display_name": "Python 3",
   "language": "python",
   "name": "python3"
  },
  "language_info": {
   "codemirror_mode": {
    "name": "ipython",
    "version": 3
   },
   "file_extension": ".py",
   "mimetype": "text/x-python",
   "name": "python",
   "nbconvert_exporter": "python",
   "pygments_lexer": "ipython3",
   "version": "3.12.11"
  }
 },
 "nbformat": 4,
 "nbformat_minor": 5
}
